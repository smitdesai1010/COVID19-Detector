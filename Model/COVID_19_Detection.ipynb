{
  "nbformat": 4,
  "nbformat_minor": 0,
  "metadata": {
    "colab": {
      "name": "COVID-19 Detection.ipynb",
      "provenance": [],
      "collapsed_sections": [],
      "authorship_tag": "ABX9TyMI/2SLdOWWBpNY1TIxJZtf",
      "include_colab_link": true
    },
    "kernelspec": {
      "name": "python3",
      "display_name": "Python 3"
    },
    "accelerator": "GPU"
  },
  "cells": [
    {
      "cell_type": "markdown",
      "metadata": {
        "id": "view-in-github",
        "colab_type": "text"
      },
      "source": [
        "<a href=\"https://colab.research.google.com/github/smitdesai1010/COVID-19-Detection/blob/master/COVID_19_Detection.ipynb\" target=\"_parent\"><img src=\"https://colab.research.google.com/assets/colab-badge.svg\" alt=\"Open In Colab\"/></a>"
      ]
    },
    {
      "cell_type": "code",
      "metadata": {
        "id": "xBvkV4cSLxiS",
        "colab_type": "code",
        "colab": {}
      },
      "source": [
        "import json\n",
        "import os\n",
        "import shutil\n",
        "import zipfile\n",
        "\n",
        "!echo > /content/kaggle.json\n",
        "\n",
        "token = {\"username\":\"smitdesai1010\",\"key\":\"41f928f2f4a0f0b462ed2ec45f383c82\"}\n",
        "with open('/content/kaggle.json', 'w') as file:\n",
        "    json.dump(token, file)\n",
        "\n",
        "!cp /content/kaggle.json ~/.kaggle/kaggle.json\n",
        "\n",
        "!kaggle config set -n path -v /content\n",
        "!chmod 600 /root/.kaggle/kaggle.json\n",
        "\n",
        "!kaggle datasets download -d amanullahasraf/covid19-pneumonia-normal-chest-xray-pa-dataset\n",
        "\n",
        "zf = zipfile.ZipFile('/content/datasets/amanullahasraf/covid19-pneumonia-normal-chest-xray-pa-dataset/covid19-pneumonia-normal-chest-xray-pa-dataset.zip') \n",
        "zf.extractall()\n",
        "\n",
        "!rm -rf 'datasets' #Deleting the the downloaded Zip files after extracting it \n",
        "\n",
        "\n",
        "def create_dataset(name):\n",
        "  org_path = '/content/'+ name\n",
        "  train_path = '/content/train/'+ name\n",
        "  val_path = '/content/validation/'+ name\n",
        "  test_path = '/content/test/'+ name\n",
        "\n",
        "  if not os.path.exists(train_path):\n",
        "    os.mkdir(train_path)\n",
        "    os.mkdir(val_path)\n",
        "    os.mkdir(test_path)\n",
        "\n",
        "  path, dirs, files = next(os.walk(org_path))\n",
        "  file_count = len(files)\n",
        "  i = 0  \n",
        "    \n",
        "  for file in os.listdir(org_path):\n",
        "    \n",
        "    if not os.path.isfile(os.path.join(org_path,file)):\n",
        "      continue\n",
        "\n",
        "    if i < file_count*0.75:\n",
        "     shutil.copy2(os.path.join(org_path,file), os.path.join(train_path,file))\n",
        "    \n",
        "    elif i > file_count*0.9:\n",
        "     shutil.copy2(os.path.join(org_path,file), os.path.join(test_path,file))\n",
        "\n",
        "    else:\n",
        "     shutil.copy2(os.path.join(org_path,file), os.path.join(val_path,file))\n",
        "     \n",
        "    i = i + 1 \n",
        "\n",
        "\n",
        "\n",
        "if not os.path.exists('/content/train'):\n",
        "  !mkdir /content/train\n",
        "  !mkdir /content/validation\n",
        "  !mkdir /content/test\n",
        " \n",
        "create_dataset('covid')\n",
        "create_dataset('normal')\n",
        "create_dataset('pneumonia')\n",
        "\n",
        "!rm -rf 'covid'\n",
        "!rm -rf 'normal'\n",
        "!rm -rf 'pneumonia'"
      ],
      "execution_count": null,
      "outputs": []
    },
    {
      "cell_type": "markdown",
      "metadata": {
        "id": "sJ65KCjpo5lg",
        "colab_type": "text"
      },
      "source": [
        "https://medium.com/@mrgarg.rajat/training-on-large-datasets-that-dont-fit-in-memory-in-keras-60a974785d71"
      ]
    },
    {
      "cell_type": "code",
      "metadata": {
        "id": "xyCkHxKEbcjv",
        "colab_type": "code",
        "colab": {}
      },
      "source": [
        "import tensorflow as tf\n",
        "import cv2\n",
        "\n",
        "import matplotlib.pyplot as plt\n",
        "import numpy as np\n",
        "\n",
        "from keras import backend as K\n",
        "from keras.models import Sequential\n",
        "from keras.layers import Dense\n",
        "from keras.optimizers import Adam,SGD,Adagrad,Adadelta,RMSprop\n",
        "\n",
        "# specifically for cnn\n",
        "from keras.layers import Dropout, Flatten,Activation\n",
        "from keras.layers import Conv2D, MaxPooling2D, BatchNormalization\n",
        "\n",
        "from keras.preprocessing.image import ImageDataGenerator"
      ],
      "execution_count": null,
      "outputs": []
    },
    {
      "cell_type": "code",
      "metadata": {
        "id": "TrYunscrEdMl",
        "colab_type": "code",
        "colab": {
          "base_uri": "https://localhost:8080/",
          "height": 68
        },
        "outputId": "77fdeefb-611c-4929-e0e1-fc286a0b1374"
      },
      "source": [
        "img_dim = 256\n",
        "batch_size = 64\n",
        "\n",
        "train_generator = ImageDataGenerator(\n",
        "    rescale = 1. / 255 ,\n",
        "    horizontal_flip = True\n",
        ")\n",
        "\n",
        "val_generator = ImageDataGenerator(\n",
        "    rescale = 1. / 255 ,\n",
        "    horizontal_flip = True\n",
        ")\n",
        "\n",
        "test_generator = ImageDataGenerator(\n",
        "    rescale = 1. / 255 ,\n",
        "    horizontal_flip = True\n",
        ")\n",
        "\n",
        "train_data = train_generator.flow_from_directory(\n",
        "    '/content/train' ,\n",
        "    target_size = (img_dim,img_dim) ,\n",
        "    batch_size = batch_size ,\n",
        ")\n",
        "\n",
        "val_data = val_generator.flow_from_directory(\n",
        "    '/content/validation' ,\n",
        "    target_size = (img_dim,img_dim) ,\n",
        "    batch_size = batch_size ,\n",
        ")\n",
        "\n",
        "test_data = test_generator.flow_from_directory(\n",
        "    '/content/test' ,\n",
        "    target_size = (img_dim,img_dim) ,\n",
        "    batch_size = batch_size ,\n",
        ")"
      ],
      "execution_count": null,
      "outputs": [
        {
          "output_type": "stream",
          "text": [
            "Found 5179 images belonging to 3 classes.\n",
            "Found 1033 images belonging to 3 classes.\n",
            "Found 690 images belonging to 3 classes.\n"
          ],
          "name": "stdout"
        }
      ]
    },
    {
      "cell_type": "code",
      "metadata": {
        "id": "4Y53PCUKHD4x",
        "colab_type": "code",
        "colab": {
          "base_uri": "https://localhost:8080/",
          "height": 323
        },
        "outputId": "0cb86894-6824-4888-fa2d-65191a6abfef"
      },
      "source": [
        "if K.image_data_format() == 'channels_first':\n",
        "    input_shape = (3, img_dim, img_dim)\n",
        "else:\n",
        "    input_shape = (img_dim, img_dim, 3)\n",
        "\n",
        "model=tf.keras.models.Sequential([\n",
        "                                  \n",
        "tf.keras.layers.Conv2D(64,(3,3),activation='relu',input_shape=input_shape),\n",
        "tf.keras.layers.MaxPool2D(pool_size=(2,2)),\n",
        "\n",
        "tf.keras.layers.Flatten(),\n",
        "tf.keras.layers.Dense(128,activation='relu'),\n",
        "tf.keras.layers.Dense(3,activation='softmax')                                 \n",
        "                                  \n",
        "])\n",
        "\n",
        "model.compile(optimizer='adam',loss='categorical_crossentropy',metrics=['accuracy'])\n",
        "model.summary()"
      ],
      "execution_count": 33,
      "outputs": [
        {
          "output_type": "stream",
          "text": [
            "Model: \"sequential_4\"\n",
            "_________________________________________________________________\n",
            "Layer (type)                 Output Shape              Param #   \n",
            "=================================================================\n",
            "conv2d_11 (Conv2D)           (None, 254, 254, 64)      1792      \n",
            "_________________________________________________________________\n",
            "max_pooling2d_11 (MaxPooling (None, 127, 127, 64)      0         \n",
            "_________________________________________________________________\n",
            "flatten_4 (Flatten)          (None, 1032256)           0         \n",
            "_________________________________________________________________\n",
            "dense_9 (Dense)              (None, 128)               132128896 \n",
            "_________________________________________________________________\n",
            "dense_10 (Dense)             (None, 3)                 387       \n",
            "=================================================================\n",
            "Total params: 132,131,075\n",
            "Trainable params: 132,131,075\n",
            "Non-trainable params: 0\n",
            "_________________________________________________________________\n"
          ],
          "name": "stdout"
        }
      ]
    },
    {
      "cell_type": "code",
      "metadata": {
        "id": "0UuXIPQgHwxe",
        "colab_type": "code",
        "colab": {
          "base_uri": "https://localhost:8080/",
          "height": 544
        },
        "outputId": "884e13e7-bf0e-4475-cab5-1aa6c6ffa3f2"
      },
      "source": [
        "model.fit(\n",
        "    train_data ,\n",
        "    steps_per_epoch = 5178/batch_size ,\n",
        "    epochs = 15 ,\n",
        "    validation_data=val_data ,\n",
        "    validation_steps = 1032/batch_size ,\n",
        "    verbose = 1 \n",
        ")"
      ],
      "execution_count": 34,
      "outputs": [
        {
          "output_type": "stream",
          "text": [
            "Epoch 1/15\n",
            "81/80 [==============================] - 84s 1s/step - loss: 10.5566 - accuracy: 0.7042 - val_loss: 0.4709 - val_accuracy: 0.8412\n",
            "Epoch 2/15\n",
            "81/80 [==============================] - 83s 1s/step - loss: 0.3948 - accuracy: 0.8652 - val_loss: 0.3991 - val_accuracy: 0.8732\n",
            "Epoch 3/15\n",
            "81/80 [==============================] - 83s 1s/step - loss: 0.2650 - accuracy: 0.9123 - val_loss: 0.3717 - val_accuracy: 0.8829\n",
            "Epoch 4/15\n",
            "81/80 [==============================] - 84s 1s/step - loss: 0.2185 - accuracy: 0.9324 - val_loss: 0.3426 - val_accuracy: 0.8916\n",
            "Epoch 5/15\n",
            "81/80 [==============================] - 83s 1s/step - loss: 0.1691 - accuracy: 0.9500 - val_loss: 0.3395 - val_accuracy: 0.9071\n",
            "Epoch 6/15\n",
            "81/80 [==============================] - 82s 1s/step - loss: 0.1320 - accuracy: 0.9647 - val_loss: 0.3276 - val_accuracy: 0.8945\n",
            "Epoch 7/15\n",
            "81/80 [==============================] - 82s 1s/step - loss: 0.1065 - accuracy: 0.9689 - val_loss: 0.3376 - val_accuracy: 0.8984\n",
            "Epoch 8/15\n",
            "81/80 [==============================] - 81s 1s/step - loss: 0.0880 - accuracy: 0.9768 - val_loss: 0.3487 - val_accuracy: 0.8945\n",
            "Epoch 9/15\n",
            "81/80 [==============================] - 81s 995ms/step - loss: 0.0666 - accuracy: 0.9822 - val_loss: 0.3207 - val_accuracy: 0.9032\n",
            "Epoch 10/15\n",
            "81/80 [==============================] - 82s 1s/step - loss: 0.0481 - accuracy: 0.9876 - val_loss: 0.3430 - val_accuracy: 0.8984\n",
            "Epoch 11/15\n",
            "81/80 [==============================] - 81s 1s/step - loss: 0.0596 - accuracy: 0.9838 - val_loss: 0.3387 - val_accuracy: 0.9119\n",
            "Epoch 12/15\n",
            "81/80 [==============================] - 80s 985ms/step - loss: 0.0436 - accuracy: 0.9898 - val_loss: 0.3460 - val_accuracy: 0.9051\n",
            "Epoch 13/15\n",
            "81/80 [==============================] - 79s 978ms/step - loss: 0.0302 - accuracy: 0.9940 - val_loss: 0.3752 - val_accuracy: 0.9216\n",
            "Epoch 14/15\n",
            "81/80 [==============================] - 79s 970ms/step - loss: 0.0309 - accuracy: 0.9934 - val_loss: 0.3639 - val_accuracy: 0.9100\n",
            "Epoch 15/15\n",
            "81/80 [==============================] - 78s 967ms/step - loss: 0.0248 - accuracy: 0.9944 - val_loss: 0.3740 - val_accuracy: 0.9129\n"
          ],
          "name": "stdout"
        },
        {
          "output_type": "execute_result",
          "data": {
            "text/plain": [
              "<tensorflow.python.keras.callbacks.History at 0x7f0fb276cba8>"
            ]
          },
          "metadata": {
            "tags": []
          },
          "execution_count": 34
        }
      ]
    },
    {
      "cell_type": "code",
      "metadata": {
        "id": "xrOkvK9W3t_9",
        "colab_type": "code",
        "colab": {
          "base_uri": "https://localhost:8080/",
          "height": 51
        },
        "outputId": "e475bc2c-ca6d-436a-b76c-5931ba95a2f8"
      },
      "source": [
        "test_results = model.evaluate(test_data,batch_size=64)\n",
        "print(test_results)"
      ],
      "execution_count": 35,
      "outputs": [
        {
          "output_type": "stream",
          "text": [
            "11/11 [==============================] - 7s 669ms/step - loss: 0.3268 - accuracy: 0.9087\n",
            "[0.3267783224582672, 0.908695638179779]\n"
          ],
          "name": "stdout"
        }
      ]
    },
    {
      "cell_type": "code",
      "metadata": {
        "id": "Fu-F-Xid6sZO",
        "colab_type": "code",
        "colab": {
          "base_uri": "https://localhost:8080/",
          "height": 68
        },
        "outputId": "5e018e2a-422a-4aa4-b72e-fa6973f15745"
      },
      "source": [
        "img = cv2.imread('/content/test/covid/007.jpg' , cv2.IMREAD_COLOR)\n",
        "img = cv2.resize(img, (256,256))\n",
        "img = np.array(img)\n",
        "img = tf.expand_dims(img,0)\n",
        "\n",
        "print(img.shape)\n",
        "print(input_shape)\n",
        "    \n",
        "model(img)\n"
      ],
      "execution_count": 27,
      "outputs": [
        {
          "output_type": "stream",
          "text": [
            "(1, 256, 256, 3)\n",
            "(256, 256, 3)\n"
          ],
          "name": "stdout"
        },
        {
          "output_type": "execute_result",
          "data": {
            "text/plain": [
              "<tf.Tensor: shape=(1, 3), dtype=float32, numpy=array([[0.9724037 , 0.00989146, 0.01770486]], dtype=float32)>"
            ]
          },
          "metadata": {
            "tags": []
          },
          "execution_count": 27
        }
      ]
    }
  ]
}